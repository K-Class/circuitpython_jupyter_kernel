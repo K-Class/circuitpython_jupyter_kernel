{
 "cells": [
  {
   "cell_type": "markdown",
   "id": "double-loading",
   "metadata": {},
   "source": [
    "## Blinking an LED"
   ]
  },
  {
   "cell_type": "markdown",
   "id": "increasing-booth",
   "metadata": {},
   "source": [
    "The traditional Hello World in Microcontrollers is the blinking of the onboard LED. This can be done using this Jupyter Notebook."
   ]
  },
  {
   "cell_type": "markdown",
   "id": "colonial-ratio",
   "metadata": {},
   "source": [
    "![cpx led](https://cdn-shop.adafruit.com/970x728/4622-03.jpg)"
   ]
  },
  {
   "cell_type": "markdown",
   "id": "guilty-cincinnati",
   "metadata": {},
   "source": [
    "To Begin let's make sure the kernel in the top left hand corner says CircuitPython. This can be modified by going to the kernel tab and selecting change kernel.\n",
    "\n",
    "Once this is done we can confirm that Jupyter can read our circuit python board by running:"
   ]
  },
  {
   "cell_type": "code",
   "execution_count": null,
   "id": "protecting-cache",
   "metadata": {},
   "outputs": [],
   "source": [
    "import os\n",
    "print(os.uname())"
   ]
  },
  {
   "cell_type": "markdown",
   "id": "individual-hybrid",
   "metadata": {},
   "source": [
    "Next to be able to turn on and off the LEDs we import board and digitalIO. Board allows access to the specific pins on the Teensy. DigitalIO creates objects for IO based programming."
   ]
  },
  {
   "cell_type": "code",
   "execution_count": 6,
   "id": "balanced-steps",
   "metadata": {},
   "outputs": [],
   "source": [
    "import digitalio\n",
    "import board"
   ]
  },
  {
   "cell_type": "markdown",
   "id": "breeding-supervision",
   "metadata": {},
   "source": [
    "Create the digitalio.DigitalInOut object for the LED in the Teensy (Teensy's onboard LED is at D13)"
   ]
  },
  {
   "cell_type": "code",
   "execution_count": 7,
   "id": "decreased-little",
   "metadata": {},
   "outputs": [],
   "source": [
    "cpx_led = digitalio.DigitalInOut(board.D13)"
   ]
  },
  {
   "cell_type": "markdown",
   "id": "gorgeous-first",
   "metadata": {},
   "source": [
    "Let's change the direction of digitialio.Direction to be an OUTPUT"
   ]
  },
  {
   "cell_type": "code",
   "execution_count": 8,
   "id": "satellite-recycling",
   "metadata": {},
   "outputs": [],
   "source": [
    "cpx_led.direction = digitalio.Direction.OUTPUT"
   ]
  },
  {
   "cell_type": "markdown",
   "id": "arabic-aluminum",
   "metadata": {},
   "source": [
    "Finally, let's turn it on by changing the value of the pin to True"
   ]
  },
  {
   "cell_type": "code",
   "execution_count": 9,
   "id": "increased-target",
   "metadata": {},
   "outputs": [],
   "source": [
    "cpx_led.value = True"
   ]
  },
  {
   "cell_type": "markdown",
   "id": "union-lease",
   "metadata": {},
   "source": [
    "Don't want the LED on? Turn it off by switching the value from True to False"
   ]
  },
  {
   "cell_type": "code",
   "execution_count": 10,
   "id": "noble-record",
   "metadata": {},
   "outputs": [],
   "source": [
    "cpx_led.value = False"
   ]
  }
 ],
 "metadata": {
  "kernelspec": {
   "display_name": "CircuitPython",
   "language": "python",
   "name": "circuitpython"
  },
  "language_info": {
   "codemirror_mode": {
    "name": "python",
    "version": 3
   },
   "file_extension": ".py",
   "mimetype": "text/x-python",
   "name": "python",
   "pygments_lexer": "python3",
   "version": "3"
  }
 },
 "nbformat": 4,
 "nbformat_minor": 5
}
